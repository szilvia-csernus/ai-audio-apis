{
 "cells": [
  {
   "cell_type": "code",
   "execution_count": 25,
   "id": "f8ac9299-261c-4841-9ec7-1a555098a391",
   "metadata": {},
   "outputs": [],
   "source": [
    "# With this function, you can record some audio but other audio files can also be provided for testing the code.\n",
    "\n",
    "import wave\n",
    "import sys\n",
    "import pyaudio\n",
    "\n",
    "CHUNK = 1024\n",
    "FORMAT = pyaudio.paInt16\n",
    "CHANNELS = 1 if sys.platform == \"darwin\" else 2\n",
    "RATE = 44100\n",
    "\n",
    "def record_audio(seconds: int):\n",
    "    output_path = \"output.wav\"\n",
    "    with wave.open(output_path, \"wb\") as wf:\n",
    "        p = pyaudio.PyAudio()\n",
    "        wf.setnchannels(CHANNELS)\n",
    "        wf.setsampwidth(p.get_sample_size(FORMAT))\n",
    "        wf.setframerate(RATE)\n",
    "\n",
    "        stream = p.open(format=FORMAT, channels=CHANNELS, rate=RATE, input=True)\n",
    "\n",
    "        print(\"Recording...\")\n",
    "        for index in range(0, RATE // CHUNK * seconds):\n",
    "            if index % (RATE // CHUNK) == 0:\n",
    "                print(f\"{index // (RATE // CHUNK)} / {seconds}s\")\n",
    "            wf.writeframes(stream.read(CHUNK))\n",
    "        print(\"Done\")\n",
    "\n",
    "        stream.close()\n",
    "        p.terminate()\n",
    "    print(f\"File saved at {output_path}\")\n",
    "    return output_path"
   ]
  },
  {
   "cell_type": "code",
   "execution_count": 2,
   "id": "a0b2a3e8-0267-4b73-a26e-d85920ac4b34",
   "metadata": {},
   "outputs": [
    {
     "name": "stdout",
     "output_type": "stream",
     "text": [
      "Recording...\n",
      "0 / 10s\n",
      "1 / 10s\n",
      "2 / 10s\n",
      "3 / 10s\n",
      "4 / 10s\n",
      "5 / 10s\n",
      "6 / 10s\n",
      "7 / 10s\n",
      "8 / 10s\n",
      "9 / 10s\n",
      "Done\n",
      "File saved at output.wav\n"
     ]
    },
    {
     "data": {
      "text/plain": [
       "'output.wav'"
      ]
     },
     "execution_count": 2,
     "metadata": {},
     "output_type": "execute_result"
    }
   ],
   "source": [
    "record_audio(10)"
   ]
  },
  {
   "cell_type": "code",
   "execution_count": 8,
   "id": "30dcfdb5-31b4-4fd3-befd-7e022712e3bf",
   "metadata": {},
   "outputs": [],
   "source": [
    "audio_file = open(\"woman_speaking.wav\", \"rb\")"
   ]
  },
  {
   "cell_type": "code",
   "execution_count": 5,
   "id": "9293da8a-45ab-44fc-8bbf-8cf0bb2d467a",
   "metadata": {},
   "outputs": [],
   "source": [
    "import openai\n",
    "from dotenv import dotenv_values\n",
    "\n",
    "config = dotenv_values(\".env\")\n",
    "openai.api_key = config[\"OPENAI_API_KEY\"]"
   ]
  },
  {
   "cell_type": "code",
   "execution_count": 6,
   "id": "f5295b9e-d2ea-4b37-8e04-163d5d80e4be",
   "metadata": {},
   "outputs": [],
   "source": [
    "from openai import OpenAI\n",
    "client = OpenAI()"
   ]
  },
  {
   "cell_type": "code",
   "execution_count": 39,
   "id": "294443f5-8b2a-46f6-a2e0-eb591e72fa96",
   "metadata": {},
   "outputs": [
    {
     "name": "stdout",
     "output_type": "stream",
     "text": [
      "I woke up this morning and the weather was so nice outside and the sun was shining and half an hour later it's already cloudy but I mean this is England what can you do?\n"
     ]
    }
   ],
   "source": [
    "# This function creates text from an English speaker's audio recording. Intresting, that even though the speech's finishing\n",
    "# part has been cut off, the model completes it by itself, even though we didn't provide any instructions for it to do so.\n",
    "\n",
    "transcription = client.audio.transcriptions.create(\n",
    "  model=\"whisper-1\", \n",
    "  file=audio_file\n",
    ")\n",
    "print(transcription.text)"
   ]
  },
  {
   "cell_type": "code",
   "execution_count": 16,
   "id": "8f81ebeb-8aef-43a2-9b61-abb7a90bcce3",
   "metadata": {},
   "outputs": [
    {
     "name": "stdout",
     "output_type": "stream",
     "text": [
      "Hi! I'm here to tell you about Dolly. Dolly is an image generating model. Dolly takes in a text and spits out an image.\n"
     ]
    }
   ],
   "source": [
    "# I'm talking about DALL-E in this audio file. Without context, whisper misspells DALL-E.\n",
    "\n",
    "audio_file_dalle = open(\"dalle.wav\", \"rb\")\n",
    "\n",
    "transcription_dalle = client.audio.transcriptions.create(\n",
    "  model=\"whisper-1\", \n",
    "  file=audio_file_dalle\n",
    ")\n",
    "print(transcription_dalle.text)"
   ]
  },
  {
   "cell_type": "code",
   "execution_count": 17,
   "id": "9678e345-9413-478c-9544-fd8bf01fde51",
   "metadata": {},
   "outputs": [
    {
     "name": "stdout",
     "output_type": "stream",
     "text": [
      "Hi, I'm here to tell you about DALL-E. DALL-E is an image generating model. DALL-E takes in a text and spits out an image.\n"
     ]
    }
   ],
   "source": [
    "# With an additional prompt, we can provide context.\n",
    "\n",
    "transcription_dalle_with_context = client.audio.transcriptions.create(\n",
    "    model=\"whisper-1\", \n",
    "    file=audio_file_dalle,\n",
    "    prompt=\"Woman talks about OpenAI's DALL-E model.\"\n",
    ")\n",
    "print(transcription_dalle_with_context.text)"
   ]
  },
  {
   "cell_type": "code",
   "execution_count": 21,
   "id": "18f2a5db-6cf5-4e18-b6f3-e477301072af",
   "metadata": {},
   "outputs": [
    {
     "name": "stdout",
     "output_type": "stream",
     "text": [
      "A következő szöveg forrása Wikipedia. 2010 óta a demokrácia szintjén jelentős hanyadlás következett be Magyarországon. 2020-ban olyan országokkal kapott hasonló besorolás, mint Brazília, Indonézia, vagy Európában Albánia. A 2020-as brüsszeli jogállamisági jelentés egy sor problémát állt fel. 2022-ben az Európai Parlament nagy többséggel elfogadott egy állásfoglalást, amelyben kimondják, hogy Magyarország már nem teljes értekű demokrácia, hanem választási autokrácia, egy hibrid rezsim.\n"
     ]
    }
   ],
   "source": [
    "# The following API call transcribes a Hungarian sound track.\n",
    "# Apart from two minor inaccuracies and one \"misheard\" word, the written text is mostly accurate.\n",
    "\n",
    "audio_file_hungarian = open(\"wiki-Hungary.m4a\", \"rb\")\n",
    "\n",
    "hungarian_text = client.audio.transcriptions.create(\n",
    "  model=\"whisper-1\", \n",
    "  file=audio_file_hungarian\n",
    ")\n",
    "print(hungarian_text.text)"
   ]
  },
  {
   "cell_type": "code",
   "execution_count": 20,
   "id": "4501e67d-48be-46cc-a08e-d88209398f2e",
   "metadata": {},
   "outputs": [
    {
     "name": "stdout",
     "output_type": "stream",
     "text": [
      "The source of the following text is Wikipedia. Since 2010, there has been a significant decrease in the level of democracy in Hungary. In 2020, similar rankings were obtained with countries such as Brazil, Indonesia, or Albania in Europe. The 2020 Brussels Statistical Report raised a series of problems. In 2022, the European Parliament mostly adopted a position in which it is said that Hungary is no longer a full-fledged democracy, but an election autocracy, a hybrid regime.\n"
     ]
    }
   ],
   "source": [
    "# The following API call translates a Hungarian audio into English text.\n",
    "# I can confirm that the translation is accurate, dispite the transcription inaccuracies in the Hungarian transcription.\n",
    "\n",
    "audio_file_hungarian = open(\"wiki-Hungary.m4a\", \"rb\")\n",
    "\n",
    "hungarian_text_translation = client.audio.translations.create(\n",
    "  model=\"whisper-1\", \n",
    "  file=audio_file_hungarian\n",
    ")\n",
    "print(hungarian_text_translation.text)"
   ]
  },
  {
   "cell_type": "code",
   "execution_count": 43,
   "id": "4b4c4576-dfe8-49b7-9dbe-3c538b3e3705",
   "metadata": {},
   "outputs": [],
   "source": [
    "# Text-to-speach with the Audio API.\n",
    "\n",
    "def text_to_speech(prompt, speech_file_path):\n",
    "    response = client.audio.speech.create(\n",
    "      model=\"tts-1\",\n",
    "      voice=\"nova\",\n",
    "      input=prompt\n",
    "    )\n",
    "    response.write_to_file(speech_file_path)\n"
   ]
  },
  {
   "cell_type": "code",
   "execution_count": 34,
   "id": "1009189f-f064-4287-ba0b-27691ed974ae",
   "metadata": {},
   "outputs": [],
   "source": [
    "text_to_speech(\"Today is a wonderful day to build something people love!\", \"english_speech.mp3\")"
   ]
  },
  {
   "cell_type": "code",
   "execution_count": 44,
   "id": "d776c1cb-4872-4432-b95e-1c8e27d3a589",
   "metadata": {},
   "outputs": [],
   "source": [
    "text_to_speech(\"Ezen a szép napon alkossunk valami szépet, ami az emberek örömére szolgál!\", \"hungarian_speech.mp3\")"
   ]
  }
 ],
 "metadata": {
  "kernelspec": {
   "display_name": "Python 3 (ipykernel)",
   "language": "python",
   "name": "python3"
  },
  "language_info": {
   "codemirror_mode": {
    "name": "ipython",
    "version": 3
   },
   "file_extension": ".py",
   "mimetype": "text/x-python",
   "name": "python",
   "nbconvert_exporter": "python",
   "pygments_lexer": "ipython3",
   "version": "3.12.2"
  }
 },
 "nbformat": 4,
 "nbformat_minor": 5
}
